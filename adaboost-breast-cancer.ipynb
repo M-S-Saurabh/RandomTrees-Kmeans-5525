{
 "cells": [
  {
   "cell_type": "code",
   "execution_count": 2,
   "metadata": {},
   "outputs": [],
   "source": [
    "import pandas as pd\n",
    "import numpy as np\n",
    "\n",
    "from sklearn.model_selection import train_test_split"
   ]
  },
  {
   "cell_type": "code",
   "execution_count": 11,
   "metadata": {},
   "outputs": [
    {
     "name": "stdout",
     "output_type": "stream",
     "text": [
      "         5   1  1.1  1.2   2 1.3   3  1.4  1.5\n",
      "1000025                                       \n",
      "1267898  5   1    3    1   2   1   1    1    1\n",
      "428903   7   2    4    1   3   4   3    3    1\n",
      "1324681  4   1    1    1   2   1   2    1    1\n",
      "557583   5  10   10   10  10  10  10    1    1\n",
      "1108370  9   5    8    1   2   3   2    1    5\n",
      "1000025\n",
      "1267898    2\n",
      "428903     4\n",
      "1324681    2\n",
      "557583     4\n",
      "1108370    4\n",
      "Name: 2.1, dtype: int64\n"
     ]
    }
   ],
   "source": [
    "DATA_FOLDER = './data/'\n",
    "\n",
    "def read_data(dataset):\n",
    "    df = pd.read_csv(DATA_FOLDER+dataset, delimiter=',', index_col=0)\n",
    "    df_X = df.iloc[:, :-1]\n",
    "    df_y = df.iloc[:, -1]\n",
    "    return train_test_split(df_X, df_y, test_size=0.25,)\n",
    "\n",
    "def adaboost(dataset: str) -> None:\n",
    "    X_train, X_test, y_train, y_test = read_data(dataset)\n",
    "    print(X_train.head())\n",
    "    print(y_train.head())\n",
    "    \n",
    "adaboost('breast-cancer-wisconsin.data')"
   ]
  },
  {
   "cell_type": "code",
   "execution_count": null,
   "metadata": {},
   "outputs": [],
   "source": []
  }
 ],
 "metadata": {
  "kernelspec": {
   "display_name": "Python 3.7.4 64-bit ('ai_hw': virtualenv)",
   "language": "python",
   "name": "python37464bitaihwvirtualenvdb766f6d2a3a4d93976d81db9b668609"
  },
  "language_info": {
   "codemirror_mode": {
    "name": "ipython",
    "version": 3
   },
   "file_extension": ".py",
   "mimetype": "text/x-python",
   "name": "python",
   "nbconvert_exporter": "python",
   "pygments_lexer": "ipython3",
   "version": "3.7.4"
  }
 },
 "nbformat": 4,
 "nbformat_minor": 4
}
